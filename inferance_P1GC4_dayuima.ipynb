{
 "cells": [
  {
   "attachments": {},
   "cell_type": "markdown",
   "metadata": {},
   "source": [
    "# XII. Model Inferance"
   ]
  },
  {
   "cell_type": "code",
   "execution_count": 7,
   "metadata": {},
   "outputs": [],
   "source": [
    "# Import Library\n",
    "import pandas as pd\n",
    "import numpy as np\n",
    "import joblib\n",
    "import sklearn.preprocessing"
   ]
  },
  {
   "cell_type": "code",
   "execution_count": 8,
   "metadata": {},
   "outputs": [],
   "source": [
    "# Read all file\n",
    "with open('scaler.pkl','rb') as file_1:\n",
    "  scaler = joblib.load(file_1)\n",
    "\n",
    "with open('pca_final.pkl','rb') as file_2:\n",
    "  pca_final = joblib.load(file_2)\n",
    "\n",
    "with open('km_final.pkl','rb') as file_3:\n",
    "  km_final = joblib.load(file_3)\n",
    "\n",
    "with open('windsoriser.pkl', 'rb') as file_4:\n",
    "  windsoriser = joblib.load(file_4)"
   ]
  },
  {
   "cell_type": "code",
   "execution_count": 14,
   "metadata": {},
   "outputs": [
    {
     "data": {
      "text/html": [
       "<div>\n",
       "<style scoped>\n",
       "    .dataframe tbody tr th:only-of-type {\n",
       "        vertical-align: middle;\n",
       "    }\n",
       "\n",
       "    .dataframe tbody tr th {\n",
       "        vertical-align: top;\n",
       "    }\n",
       "\n",
       "    .dataframe thead th {\n",
       "        text-align: right;\n",
       "    }\n",
       "</style>\n",
       "<table border=\"1\" class=\"dataframe\">\n",
       "  <thead>\n",
       "    <tr style=\"text-align: right;\">\n",
       "      <th></th>\n",
       "      <th>BALANCE</th>\n",
       "      <th>PURCHASES</th>\n",
       "      <th>ONEOFF_PURCHASES</th>\n",
       "      <th>INSTALLMENTS_PURCHASES</th>\n",
       "      <th>CASH_ADVANCE</th>\n",
       "      <th>CASH_ADVANCE_TRX</th>\n",
       "      <th>PURCHASES_TRX</th>\n",
       "      <th>CREDIT_LIMIT</th>\n",
       "      <th>PAYMENTS</th>\n",
       "      <th>MINIMUM_PAYMENTS</th>\n",
       "      <th>PRC_FULL_PAYMENT</th>\n",
       "    </tr>\n",
       "  </thead>\n",
       "  <tbody>\n",
       "    <tr>\n",
       "      <th>0</th>\n",
       "      <td>16.581535</td>\n",
       "      <td>200.0</td>\n",
       "      <td>0.0</td>\n",
       "      <td>200.0</td>\n",
       "      <td>0.0</td>\n",
       "      <td>0</td>\n",
       "      <td>2</td>\n",
       "      <td>1200.0</td>\n",
       "      <td>215.325023</td>\n",
       "      <td>56.72021</td>\n",
       "      <td>0.0</td>\n",
       "    </tr>\n",
       "  </tbody>\n",
       "</table>\n",
       "</div>"
      ],
      "text/plain": [
       "     BALANCE  PURCHASES  ONEOFF_PURCHASES  INSTALLMENTS_PURCHASES  \\\n",
       "0  16.581535      200.0               0.0                   200.0   \n",
       "\n",
       "   CASH_ADVANCE  CASH_ADVANCE_TRX  PURCHASES_TRX  CREDIT_LIMIT    PAYMENTS  \\\n",
       "0           0.0                 0              2        1200.0  215.325023   \n",
       "\n",
       "   MINIMUM_PAYMENTS  PRC_FULL_PAYMENT  \n",
       "0          56.72021               0.0  "
      ]
     },
     "execution_count": 14,
     "metadata": {},
     "output_type": "execute_result"
    }
   ],
   "source": [
    "# Membuat DataFrame baru\n",
    "df_inf = pd.DataFrame({\n",
    "    'BALANCE':[16.581535],\n",
    "    'PURCHASES':[200.0],\n",
    "    'ONEOFF_PURCHASES':[0.0],\n",
    "    'INSTALLMENTS_PURCHASES':[200.0],\n",
    "    'CASH_ADVANCE':[0.0],\n",
    "    'CASH_ADVANCE_TRX':[0],\n",
    "    'PURCHASES_TRX':[2],\n",
    "    'CREDIT_LIMIT':[1200.0],\n",
    "    'PAYMENTS':[215.325023],\n",
    "    'MINIMUM_PAYMENTS':[56.720210],\n",
    "    'PRC_FULL_PAYMENT':[0.0]\n",
    "})\n",
    "df_inf"
   ]
  },
  {
   "cell_type": "code",
   "execution_count": 15,
   "metadata": {},
   "outputs": [
    {
     "data": {
      "text/plain": [
       "array([[-0.45934168, -0.1622217 , -0.059925  ,  0.20889805,  0.        ,\n",
       "         0.        , -0.3125    , -0.36      , -0.43164699, -0.38327988,\n",
       "         0.        ]])"
      ]
     },
     "execution_count": 15,
     "metadata": {},
     "output_type": "execute_result"
    }
   ],
   "source": [
    "# Feature Scaling \n",
    "inf_scaler = scaler.transform(df_inf)\n",
    "inf_scaler"
   ]
  },
  {
   "cell_type": "code",
   "execution_count": 16,
   "metadata": {},
   "outputs": [],
   "source": [
    "# PCA predict\n",
    "inf_pca = pca_final.transform(inf_scaler)"
   ]
  },
  {
   "cell_type": "code",
   "execution_count": 17,
   "metadata": {},
   "outputs": [
    {
     "data": {
      "text/plain": [
       "array([0], dtype=int32)"
      ]
     },
     "execution_count": 17,
     "metadata": {},
     "output_type": "execute_result"
    }
   ],
   "source": [
    "# Predict the model\n",
    "y_pred_inf = km_final.predict(inf_pca)\n",
    "y_pred_inf"
   ]
  },
  {
   "attachments": {},
   "cell_type": "markdown",
   "metadata": {},
   "source": [
    "- Setelah dilakukan clustering, dapat disimpulkan bahwa data inference termasuk kategori cluster 0"
   ]
  }
 ],
 "metadata": {
  "kernelspec": {
   "display_name": "base",
   "language": "python",
   "name": "python3"
  },
  "language_info": {
   "codemirror_mode": {
    "name": "ipython",
    "version": 3
   },
   "file_extension": ".py",
   "mimetype": "text/x-python",
   "name": "python",
   "nbconvert_exporter": "python",
   "pygments_lexer": "ipython3",
   "version": "3.9.16"
  },
  "orig_nbformat": 4
 },
 "nbformat": 4,
 "nbformat_minor": 2
}
